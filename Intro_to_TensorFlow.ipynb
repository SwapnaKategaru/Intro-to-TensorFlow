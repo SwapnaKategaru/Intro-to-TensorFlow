{
  "nbformat": 4,
  "nbformat_minor": 0,
  "metadata": {
    "colab": {
      "name": "Intro-to-TensorFlow.ipynb",
      "provenance": [],
      "collapsed_sections": [],
      "authorship_tag": "ABX9TyP/vLLIkc3yGoMaZQnLQse8",
      "include_colab_link": true
    },
    "kernelspec": {
      "name": "python3",
      "display_name": "Python 3"
    },
    "language_info": {
      "name": "python"
    }
  },
  "cells": [
    {
      "cell_type": "markdown",
      "metadata": {
        "id": "view-in-github",
        "colab_type": "text"
      },
      "source": [
        "<a href=\"https://colab.research.google.com/github/SwapnaKategaru/Intro-to-TensorFlow/blob/main/Intro_to_TensorFlow.ipynb\" target=\"_parent\"><img src=\"https://colab.research.google.com/assets/colab-badge.svg\" alt=\"Open In Colab\"/></a>"
      ]
    },
    {
      "cell_type": "markdown",
      "metadata": {
        "id": "nSOf7lz038s-"
      },
      "source": [
        "## Convert celsius to fahrenheit using Machine Learning"
      ]
    },
    {
      "cell_type": "code",
      "metadata": {
        "id": "8IK1htgD7fCB",
        "colab": {
          "base_uri": "https://localhost:8080/"
        },
        "outputId": "e8f10024-c8a5-4981-9f5c-c4f959beae5d"
      },
      "source": [
        "import numpy as np\n",
        "import tensorflow as tf\n",
        "\n",
        "celsius    = np.array([-40, -10,  0,  8, 15, 22,  38],  dtype=float)\n",
        "fahrenheit = np.array([-40,  14, 32, 46, 59, 72, 100],  dtype=float)\n",
        "\n",
        "layer = tf.keras.layers.Dense(units=1, input_shape=[1]) \n",
        "model = tf.keras.Sequential([layer])\n",
        "model.compile(loss='mean_squared_error', optimizer=tf.keras.optimizers.Adam(0.1))\n",
        "history = model.fit(celsius, fahrenheit, epochs=500, verbose=False)\n",
        "print(model.get_weights())\n",
        "model.predict([100.0])"
      ],
      "execution_count": 4,
      "outputs": [
        {
          "output_type": "stream",
          "text": [
            "[array([[1.8239303]], dtype=float32), array([28.919989], dtype=float32)]\n"
          ],
          "name": "stdout"
        },
        {
          "output_type": "execute_result",
          "data": {
            "text/plain": [
              "array([[211.313]], dtype=float32)"
            ]
          },
          "metadata": {
            "tags": []
          },
          "execution_count": 4
        }
      ]
    },
    {
      "cell_type": "markdown",
      "metadata": {
        "id": "FmOxTD7m4ZP1"
      },
      "source": [
        "## Addition of numbers (DS and Algo)"
      ]
    },
    {
      "cell_type": "code",
      "metadata": {
        "id": "_DKC7Sgw8BLm",
        "colab": {
          "base_uri": "https://localhost:8080/"
        },
        "outputId": "6167ea5a-ed08-4f6f-a9a7-755c645974c8"
      },
      "source": [
        "x = [9,9,9,9,9,9,9]\n",
        "y = [9,9,9,9]\n",
        "\n",
        "\n",
        "x.reverse(),y.reverse()\n",
        "\n",
        "x,y = [str(integer) for integer in x], [str(integer) for integer in y]\n",
        "string_a, string_b = \"\".join(x), \"\".join(y)\n",
        "int_1, int_2 = int(string_a), int(string_b)\n",
        "    \n",
        "sum = int_1 + int_2\n",
        "\n",
        "con_list = [int(x) for x in str(sum)]\n",
        "con_list.reverse()\n",
        "print(con_list)"
      ],
      "execution_count": 5,
      "outputs": [
        {
          "output_type": "stream",
          "text": [
            "[8, 9, 9, 9, 0, 0, 0, 1]\n"
          ],
          "name": "stdout"
        }
      ]
    }
  ]
}